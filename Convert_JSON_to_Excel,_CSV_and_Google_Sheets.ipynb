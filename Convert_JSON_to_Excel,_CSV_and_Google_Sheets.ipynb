{
  "nbformat": 4,
  "nbformat_minor": 0,
  "metadata": {
    "colab": {
      "name": "Convert JSON to Excel, CSV and Google Sheets.ipynb",
      "provenance": [],
      "collapsed_sections": [],
      "toc_visible": true,
      "authorship_tag": "ABX9TyPxvYeiYPDTphnZsKHYOiRA",
      "include_colab_link": true
    },
    "kernelspec": {
      "name": "python3",
      "display_name": "Python 3"
    },
    "language_info": {
      "name": "python"
    }
  },
  "cells": [
    {
      "cell_type": "markdown",
      "metadata": {
        "id": "view-in-github",
        "colab_type": "text"
      },
      "source": [
        "<a href=\"https://colab.research.google.com/github/osmanali0/Git_Me/blob/main/Convert_JSON_to_Excel%2C_CSV_and_Google_Sheets.ipynb\" target=\"_parent\"><img src=\"https://colab.research.google.com/assets/colab-badge.svg\" alt=\"Open In Colab\"/></a>"
      ]
    },
    {
      "cell_type": "code",
      "metadata": {
        "id": "Q_8u6XHC5LOE"
      },
      "source": [
        "import pandas as pd"
      ],
      "execution_count": null,
      "outputs": []
    },
    {
      "cell_type": "code",
      "metadata": {
        "id": "BiTjGQ795Ysx"
      },
      "source": [
        "df=pd.read_json(\"result.json\")"
      ],
      "execution_count": null,
      "outputs": []
    },
    {
      "cell_type": "code",
      "metadata": {
        "id": "tJA8qca95-M9"
      },
      "source": [
        "#df.to_csv(\"mygrop.xlsx\")# تحويل الملف الي اكسل"
      ],
      "execution_count": null,
      "outputs": []
    },
    {
      "cell_type": "code",
      "metadata": {
        "id": "V0F-CjQW668e"
      },
      "source": [
        "#df.to_csv(\"mygrop.csv\") # تحويل الملف الي csv"
      ],
      "execution_count": null,
      "outputs": []
    },
    {
      "cell_type": "code",
      "metadata": {
        "id": "gi0AUYjL7UJL"
      },
      "source": [
        "#df.to_csv(\"mygrop.txt\")# تحويل الملف اليملف تكست "
      ],
      "execution_count": null,
      "outputs": []
    },
    {
      "cell_type": "code",
      "metadata": {
        "id": "FZmUFpsOE1xg"
      },
      "source": [
        "def addcolumns(r):\n",
        "  r[\"messages\"]"
      ],
      "execution_count": 4,
      "outputs": []
    }
  ]
}